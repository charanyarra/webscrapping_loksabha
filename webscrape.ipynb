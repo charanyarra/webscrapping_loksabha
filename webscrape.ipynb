{
  "nbformat": 4,
  "nbformat_minor": 0,
  "metadata": {
    "colab": {
      "provenance": []
    },
    "kernelspec": {
      "name": "python3",
      "display_name": "Python 3"
    },
    "language_info": {
      "name": "python"
    }
  },
  "cells": [
    {
      "cell_type": "code",
      "source": [
        "import requests\n",
        "from bs4 import BeautifulSoup\n",
        "import pandas as pd\n",
        "\n",
        "url = 'https://results.eci.gov.in/PcResultGenJune2024/index.htm'\n",
        "\n",
        "response = requests.get(url)\n",
        "\n",
        "soup = BeautifulSoup(response.content, 'html.parser')\n",
        "\n",
        "table = soup.find('table')\n",
        "\n",
        "if table is None:\n",
        "    print(\"Table not found on the page.\")\n",
        "else:\n",
        "    print(\"Table found on the page.\")\n",
        "\n",
        "def parse_table(table):\n",
        "    data = []\n",
        "    headers = [header.text.strip() for header in table.find_all('th')]\n",
        "    rows = table.find_all('tr')\n",
        "    for row in rows:\n",
        "        columns = row.find_all('td')\n",
        "        if columns:\n",
        "            data.append([column.text.strip() for column in columns])\n",
        "    return headers, data\n",
        "\n",
        "if table:\n",
        "    headers, data = parse_table(table)\n",
        "\n",
        "    print(\"Headers:\", headers)\n",
        "    if data:\n",
        "        print(\"First row of data:\", data[0])\n",
        "\n",
        "    relevant_headers = ['Party', 'Won', 'Leading', 'Total']\n",
        "\n",
        "    df = pd.DataFrame(data, columns=relevant_headers)\n",
        "\n",
        "    # Change the CSV file name for election results\n",
        "    df.to_csv('election_results.csv', index=False)\n",
        "\n",
        "    print(\"Scraping completed and data saved to 'election_results.csv'\")\n",
        "else:\n",
        "    print(\"Failed to scrape the data as the table was not found.\")\n"
      ],
      "metadata": {
        "colab": {
          "base_uri": "https://localhost:8080/"
        },
        "id": "Y3uNumIp3DPi",
        "outputId": "c11deabd-544b-45cf-b970-ea22c16d93aa"
      },
      "execution_count": 4,
      "outputs": [
        {
          "output_type": "stream",
          "name": "stdout",
          "text": [
            "Table found on the page.\n",
            "Headers: ['Party', 'Won', 'Leading', 'Total', 'Total', '543', '0', '543']\n",
            "First row of data: ['Bharatiya Janata Party - BJP', '240', '0', '240']\n",
            "Scraping completed and data saved to 'election_results.csv'\n"
          ]
        }
      ]
    },
    {
      "cell_type": "code",
      "source": [
        "import pandas as pd\n",
        "\n",
        "file_path = 'election_results.csv'\n",
        "data = pd.read_csv(file_path)\n",
        "\n",
        "total_seats_by_party = data[['Party', 'Won']].sort_values(by='Won', ascending=False)\n",
        "\n",
        "party_with_most_seats = total_seats_by_party.iloc[0]\n",
        "\n",
        "party_with_least_seats = total_seats_by_party.iloc[-1]\n",
        "\n",
        "total_seats = total_seats_by_party['Won'].sum()\n",
        "total_seats_by_party['Percentage'] = (total_seats_by_party['Won'] / total_seats) * 100\n",
        "\n",
        "total_parties = total_seats_by_party.shape[0]\n",
        "\n",
        "top_5_parties = total_seats_by_party.head(5)\n",
        "\n",
        "sum_of_seats = total_seats_by_party['Won'].sum()\n",
        "\n",
        "average_seats = total_seats_by_party['Won'].mean()\n",
        "\n",
        "median_seats = total_seats_by_party['Won'].median()\n",
        "\n",
        "std_dev_seats = total_seats_by_party['Won'].std()\n",
        "\n",
        "report = {\n",
        "    \"Total seats won by each party\": total_seats_by_party.to_dict('records'),\n",
        "    \"Party with the highest number of seats won\": party_with_most_seats.to_dict(),\n",
        "    \"Party with the lowest number of seats won\": party_with_least_seats.to_dict(),\n",
        "    \"Percentage of total seats won by each party\": total_seats_by_party[['Party', 'Percentage']].to_dict('records'),\n",
        "    \"Total number of parties participating\": total_parties,\n",
        "    \"Top 5 parties by number of seats won\": top_5_parties.to_dict('records'),\n",
        "    \"Sum of seats won by all parties\": sum_of_seats,\n",
        "    \"Average number of seats won by parties\": average_seats,\n",
        "    \"Median number of seats won by parties\": median_seats,\n",
        "    \"Standard deviation of seats won by parties\": std_dev_seats\n",
        "}\n",
        "\n",
        "adjusted_report = {\n",
        "    \"Insight\": [\n",
        "        \"Total seats won by each party\",\n",
        "        \"Party with the highest number of seats won\",\n",
        "        \"Party with the lowest number of seats won\",\n",
        "        \"Percentage of total seats won by each party\",\n",
        "        \"Total number of parties participating\",\n",
        "        \"Top 5 parties by number of seats won\",\n",
        "        \"Sum of seats won by all parties\",\n",
        "        \"Average number of seats won by parties\",\n",
        "        \"Median number of seats won by parties\",\n",
        "        \"Standard deviation of seats won by parties\"\n",
        "    ],\n",
        "    \"Details\": [\n",
        "        total_seats_by_party.to_dict('records'),\n",
        "        party_with_most_seats.to_dict(),\n",
        "        party_with_least_seats.to_dict(),\n",
        "        total_seats_by_party[['Party', 'Percentage']].to_dict('records'),\n",
        "        total_parties,\n",
        "        top_5_parties.to_dict('records'),\n",
        "        sum_of_seats,\n",
        "        average_seats,\n",
        "        median_seats,\n",
        "        std_dev_seats\n",
        "    ]\n",
        "}\n",
        "\n",
        "report_df = pd.DataFrame(adjusted_report)\n",
        "\n",
        "# Change the CSV file name for the election report\n",
        "report_df.to_csv('election_report.csv', index=False)\n",
        "\n",
        "print(\"Report saved to 'election_report.csv'\")\n"
      ],
      "metadata": {
        "colab": {
          "base_uri": "https://localhost:8080/"
        },
        "id": "7RtVHIGK3IMH",
        "outputId": "9ab00235-7c92-4936-a9a8-56864a2cd352"
      },
      "execution_count": 5,
      "outputs": [
        {
          "output_type": "stream",
          "name": "stdout",
          "text": [
            "Report saved to 'election_report.csv'\n"
          ]
        }
      ]
    }
  ]
}